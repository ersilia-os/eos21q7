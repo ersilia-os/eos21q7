{
 "cells": [
  {
   "cell_type": "code",
   "execution_count": 2,
   "metadata": {},
   "outputs": [
    {
     "name": "stderr",
     "output_type": "stream",
     "text": [
      "/tmp/ipykernel_33172/728646683.py:2: DeprecationWarning: \n",
      "Pyarrow will become a required dependency of pandas in the next major release of pandas (pandas 3.0),\n",
      "(to allow more performant data types, such as the Arrow string type, and better interoperability with other libraries)\n",
      "but was not found to be installed on your system.\n",
      "If this would cause problems for you,\n",
      "please provide us feedback at https://github.com/pandas-dev/pandas/issues/54466\n",
      "        \n",
      "  import pandas as pd\n"
     ]
    }
   ],
   "source": [
    "import os\n",
    "import pandas as pd\n",
    "from rdkit import Chem\n",
    "import numpy as np\n",
    "from rdkit.Chem import AllChem\n",
    "from rdkit.Chem import QED\n",
    "from rdkit.Chem import DataStructs\n",
    "\n",
    "DATAPATH = \"../data\""
   ]
  },
  {
   "cell_type": "code",
   "execution_count": 4,
   "metadata": {},
   "outputs": [
    {
     "data": {
      "text/html": [
       "<div>\n",
       "<style scoped>\n",
       "    .dataframe tbody tr th:only-of-type {\n",
       "        vertical-align: middle;\n",
       "    }\n",
       "\n",
       "    .dataframe tbody tr th {\n",
       "        vertical-align: top;\n",
       "    }\n",
       "\n",
       "    .dataframe thead th {\n",
       "        text-align: right;\n",
       "    }\n",
       "</style>\n",
       "<table border=\"1\" class=\"dataframe\">\n",
       "  <thead>\n",
       "    <tr style=\"text-align: right;\">\n",
       "      <th></th>\n",
       "      <th>smiles</th>\n",
       "      <th>toxicity</th>\n",
       "      <th>ref</th>\n",
       "    </tr>\n",
       "  </thead>\n",
       "  <tbody>\n",
       "    <tr>\n",
       "      <th>0</th>\n",
       "      <td>CC1=NN=C(O1)C(=O)NC(C)(C)C2=N/C(=C(/NCC3=CC=C(...</td>\n",
       "      <td>1</td>\n",
       "      <td>DILIrank</td>\n",
       "    </tr>\n",
       "    <tr>\n",
       "      <th>1</th>\n",
       "      <td>C1=CC2=C(C=C1OC(F)(F)F)SC(=N2)N</td>\n",
       "      <td>1</td>\n",
       "      <td>DILIrank</td>\n",
       "    </tr>\n",
       "    <tr>\n",
       "      <th>2</th>\n",
       "      <td>CCC1C(=O)N(CC(=O)N(C(C(=O)NC(C(=O)N(C(C(=O)NC(...</td>\n",
       "      <td>1</td>\n",
       "      <td>DILIrank</td>\n",
       "    </tr>\n",
       "    <tr>\n",
       "      <th>3</th>\n",
       "      <td>CC(C1=CC(=CC=C1)OC2=CC=CC=C2)C(=O)O</td>\n",
       "      <td>1</td>\n",
       "      <td>DILIrank</td>\n",
       "    </tr>\n",
       "    <tr>\n",
       "      <th>4</th>\n",
       "      <td>CC(=O)NC1=NN=C(S1)S(=O)(=O)N</td>\n",
       "      <td>1</td>\n",
       "      <td>DILIrank</td>\n",
       "    </tr>\n",
       "    <tr>\n",
       "      <th>5</th>\n",
       "      <td>CNCCC=C1C2=CC=CC=C2CCC3=CC=CC=C31</td>\n",
       "      <td>1</td>\n",
       "      <td>DILIrank</td>\n",
       "    </tr>\n",
       "    <tr>\n",
       "      <th>6</th>\n",
       "      <td>CC1=CC2=C(C=C1C(=C)C3=CC=C(C=C3)C(=O)O)C(CCC2(...</td>\n",
       "      <td>1</td>\n",
       "      <td>DILIrank</td>\n",
       "    </tr>\n",
       "    <tr>\n",
       "      <th>7</th>\n",
       "      <td>CNC(=O)C1=NC=CC(=C1)OC2=CC=C(C=C2)NC(=O)NC3=CC...</td>\n",
       "      <td>1</td>\n",
       "      <td>DILIrank</td>\n",
       "    </tr>\n",
       "    <tr>\n",
       "      <th>8</th>\n",
       "      <td>COC1=C(C=C(C=C1)CC2=NC=CC3=CC(=C(C=C32)OC)OC)OC</td>\n",
       "      <td>1</td>\n",
       "      <td>DILIrank</td>\n",
       "    </tr>\n",
       "    <tr>\n",
       "      <th>9</th>\n",
       "      <td>CS(=O)(=O)NC1=C(C=C(C=C1)[N+](=O)[O-])OC2=CC=C...</td>\n",
       "      <td>1</td>\n",
       "      <td>DILIrank</td>\n",
       "    </tr>\n",
       "  </tbody>\n",
       "</table>\n",
       "</div>"
      ],
      "text/plain": [
       "                                              smiles  toxicity       ref\n",
       "0  CC1=NN=C(O1)C(=O)NC(C)(C)C2=N/C(=C(/NCC3=CC=C(...         1  DILIrank\n",
       "1                    C1=CC2=C(C=C1OC(F)(F)F)SC(=N2)N         1  DILIrank\n",
       "2  CCC1C(=O)N(CC(=O)N(C(C(=O)NC(C(=O)N(C(C(=O)NC(...         1  DILIrank\n",
       "3                CC(C1=CC(=CC=C1)OC2=CC=CC=C2)C(=O)O         1  DILIrank\n",
       "4                       CC(=O)NC1=NN=C(S1)S(=O)(=O)N         1  DILIrank\n",
       "5                  CNCCC=C1C2=CC=CC=C2CCC3=CC=CC=C31         1  DILIrank\n",
       "6  CC1=CC2=C(C=C1C(=C)C3=CC=C(C=C3)C(=O)O)C(CCC2(...         1  DILIrank\n",
       "7  CNC(=O)C1=NC=CC(=C1)OC2=CC=C(C=C2)NC(=O)NC3=CC...         1  DILIrank\n",
       "8    COC1=C(C=C(C=C1)CC2=NC=CC3=CC(=C(C=C32)OC)OC)OC         1  DILIrank\n",
       "9  CS(=O)(=O)NC1=C(C=C(C=C1)[N+](=O)[O-])OC2=CC=C...         1  DILIrank"
      ]
     },
     "execution_count": 4,
     "metadata": {},
     "output_type": "execute_result"
    }
   ],
   "source": [
    "##load the dataset\n",
    "df = pd.read_csv(os.path.join(DATAPATH, 'Total_dataset.csv'))\n",
    "df.head(10)"
   ]
  },
  {
   "cell_type": "code",
   "execution_count": 9,
   "metadata": {},
   "outputs": [
    {
     "data": {
      "text/plain": [
       "(1850, 3)"
      ]
     },
     "execution_count": 9,
     "metadata": {},
     "output_type": "execute_result"
    }
   ],
   "source": [
    "# check if all molecules can be converted using rdkit using author's code\n",
    "\n",
    "mols = [Chem.MolFromSmiles(smiles) for smiles in df[\"smiles\"]]\n",
    "\n",
    "none_list = []\n",
    "for i in range(len(mols)):\n",
    "    if mols[i] is None :\n",
    "        none_list.append(i)\n",
    "        print('add to none_list')\n",
    "    \n",
    "reg_idx = 0\n",
    "for i in none_list :\n",
    "    del mols[i - reg_idx]\n",
    "    reg_idx += 1\n",
    "    \n",
    "# modify index\n",
    "if len(none_list) != 0 :\n",
    "    test_df = df.drop(none_list, axis=0)\n",
    "    test_df = df.reset_index(drop = True)\n",
    "df.shape\n",
    "\n",
    "#all molecules can be converted by rdkit so we do not need to check this further at this stage"
   ]
  },
  {
   "cell_type": "code",
   "execution_count": 6,
   "metadata": {},
   "outputs": [
    {
     "name": "stdout",
     "output_type": "stream",
     "text": [
      "1850 1398 452 1850\n"
     ]
    }
   ],
   "source": [
    "##Divide into train and test.\n",
    "##According to the authors column ref with NCTR, GREENE, Xu and Liew were used for training wile DILIrank was used for testing\n",
    "\n",
    "# Split the DataFrame based on the value in the 'ref' column\n",
    "test = df[df['ref'] == 'DILIrank']\n",
    "train = df[df['ref'] != 'DILIrank']\n",
    "\n",
    "# Write the divided DataFrames to separate CSV files\n",
    "test.to_csv(os.path.join(DATAPATH,\"test.csv\"), index=False)\n",
    "train.to_csv(os.path.join(DATAPATH, \"train.csv\"), index=False)\n",
    "print(len(df), len(train), len(test), len(train)+len(test))"
   ]
  },
  {
   "cell_type": "code",
   "execution_count": 7,
   "metadata": {},
   "outputs": [
    {
     "name": "stdout",
     "output_type": "stream",
     "text": [
      "Number of Negative (0) outcomes in train dataset: 630\n",
      "Number of Positive (1) outcomes in train dataset: 768\n",
      "Total number of train samples: 1398\n",
      "\n",
      "Ratio of Negative (0) outcomes: 0.45064377682403434\n",
      "Ratio of Positive (1) outcomes: 0.5493562231759657\n"
     ]
    }
   ],
   "source": [
    "# Count the occurrences of positive (1) and negative (0) outcomes in the 'toxicity' column of our train dataset\n",
    "outcome_counts = train['toxicity'].value_counts()\n",
    "\n",
    "# Print the result\n",
    "total_samples = len(train)\n",
    "print(\"Number of Negative (0) outcomes in train dataset:\", outcome_counts[0])\n",
    "print(\"Number of Positive (1) outcomes in train dataset:\", outcome_counts[1])\n",
    "print(\"Total number of train samples:\", total_samples)\n",
    "\n",
    "# Calculate and print the ratio of negative (0) and positive (1) outcomes\n",
    "outcome_ratio = train['toxicity'].value_counts(normalize=True)\n",
    "print(\"\\nRatio of Negative (0) outcomes:\", outcome_ratio[0])\n",
    "print(\"Ratio of Positive (1) outcomes:\", outcome_ratio[1])"
   ]
  },
  {
   "cell_type": "code",
   "execution_count": 8,
   "metadata": {},
   "outputs": [
    {
     "name": "stdout",
     "output_type": "stream",
     "text": [
      "Number of Negative (0) outcomes in test dataset: 268\n",
      "Number of Positive (1) outcomes in test dataset: 184\n",
      "Total number of test samples: 452\n",
      "\n",
      "Ratio of Negative (0) outcomes: 0.5929203539823009\n",
      "Ratio of Positive (1) outcomes: 0.40707964601769914\n"
     ]
    }
   ],
   "source": [
    "# Count the occurrences of positive (1) and negative (0) outcomes in the 'toxicity' column of our test dataset\n",
    "#Load test dataset\n",
    "outcome_counts = test['toxicity'].value_counts()\n",
    "\n",
    "# Print the result\n",
    "total_samples = len(test)\n",
    "print(\"Number of Negative (0) outcomes in test dataset:\", outcome_counts[0])\n",
    "print(\"Number of Positive (1) outcomes in test dataset:\", outcome_counts[1])\n",
    "print(\"Total number of test samples:\", total_samples)\n",
    "\n",
    "# Calculate and print the ratio of negative (0) and positive (1) outcomes\n",
    "outcome_ratio = test['toxicity'].value_counts(normalize=True)\n",
    "print(\"\\nRatio of Negative (0) outcomes:\", outcome_ratio[0])\n",
    "print(\"Ratio of Positive (1) outcomes:\", outcome_ratio[1])"
   ]
  }
 ],
 "metadata": {
  "kernelspec": {
   "display_name": "Python 3 (ipykernel)",
   "language": "python",
   "name": "python3"
  },
  "language_info": {
   "codemirror_mode": {
    "name": "ipython",
    "version": 3
   },
   "file_extension": ".py",
   "mimetype": "text/x-python",
   "name": "python",
   "nbconvert_exporter": "python",
   "pygments_lexer": "ipython3",
   "version": "3.8.18"
  }
 },
 "nbformat": 4,
 "nbformat_minor": 4
}
